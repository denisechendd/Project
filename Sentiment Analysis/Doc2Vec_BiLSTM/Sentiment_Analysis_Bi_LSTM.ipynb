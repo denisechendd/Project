{
  "nbformat": 4,
  "nbformat_minor": 0,
  "metadata": {
    "kernelspec": {
      "display_name": "Python 3",
      "language": "python",
      "name": "python3"
    },
    "language_info": {
      "codemirror_mode": {
        "name": "ipython",
        "version": 3
      },
      "file_extension": ".py",
      "mimetype": "text/x-python",
      "name": "python",
      "nbconvert_exporter": "python",
      "pygments_lexer": "ipython3",
      "version": "3.7.3"
    },
    "colab": {
      "name": "Sentiment_Analysis_Bi-LSTM.ipynb",
      "provenance": [],
      "collapsed_sections": [
        "qZiO6JfAiO5K",
        "W37-vKVSiO5L",
        "MdNCNAeriO5N",
        "XIYLQaQ3HeZ1",
        "zpo3CVD_iO5V",
        "i7A1aYxliO5Y",
        "KMW4IuCBiO5a",
        "Eg9MVJlbiO5h"
      ],
      "toc_visible": true
    },
    "accelerator": "TPU"
  },
  "cells": [
    {
      "cell_type": "markdown",
      "metadata": {
        "id": "_IGRr20r7euJ",
        "colab_type": "text"
      },
      "source": [
        "### LSTM Model\n",
        "\n",
        "### Bi-Directional LSTM Keras"
      ]
    },
    {
      "cell_type": "code",
      "metadata": {
        "id": "BE2wHW9WiWMI",
        "colab_type": "code",
        "outputId": "4183a113-54fc-4b5f-f532-16b5b4aa28c6",
        "colab": {
          "base_uri": "https://localhost:8080/",
          "height": 122
        }
      },
      "source": [
        "from google.colab import drive\n",
        "drive.mount('/content/drive')"
      ],
      "execution_count": 1,
      "outputs": [
        {
          "output_type": "stream",
          "text": [
            "Go to this URL in a browser: https://accounts.google.com/o/oauth2/auth?client_id=947318989803-6bn6qk8qdgf4n4g3pfee6491hc0brc4i.apps.googleusercontent.com&redirect_uri=urn%3aietf%3awg%3aoauth%3a2.0%3aoob&response_type=code&scope=email%20https%3a%2f%2fwww.googleapis.com%2fauth%2fdocs.test%20https%3a%2f%2fwww.googleapis.com%2fauth%2fdrive%20https%3a%2f%2fwww.googleapis.com%2fauth%2fdrive.photos.readonly%20https%3a%2f%2fwww.googleapis.com%2fauth%2fpeopleapi.readonly\n",
            "\n",
            "Enter your authorization code:\n",
            "··········\n",
            "Mounted at /content/drive\n"
          ],
          "name": "stdout"
        }
      ]
    },
    {
      "cell_type": "code",
      "metadata": {
        "id": "ainCsYnWiO4r",
        "colab_type": "code",
        "outputId": "dcea3360-ae54-4704-a577-d3f7e07d9ca8",
        "colab": {
          "base_uri": "https://localhost:8080/",
          "height": 71
        }
      },
      "source": [
        "import pandas as pd\n",
        "import seaborn as sns\n",
        "import matplotlib.pyplot as plt\n",
        "import numpy as np\n",
        "import nltk\n",
        "from sklearn.feature_extraction.text import CountVectorizer\n",
        "from sklearn.feature_extraction.text import TfidfVectorizer\n",
        "from sklearn.preprocessing import LabelBinarizer\n",
        "from nltk.corpus import stopwords\n",
        "from nltk.stem.porter import PorterStemmer\n",
        "from nltk.stem import WordNetLemmatizer\n",
        "from nltk.tokenize import word_tokenize,sent_tokenize\n",
        "from bs4 import BeautifulSoup\n",
        "import re,string\n",
        "from nltk.tokenize.toktok import ToktokTokenizer\n",
        "from nltk.stem import LancasterStemmer,WordNetLemmatizer\n",
        "from sklearn.linear_model import LogisticRegression,SGDClassifier\n",
        "from sklearn.naive_bayes import MultinomialNB\n",
        "from sklearn.svm import SVC\n",
        "from sklearn.ensemble import RandomForestClassifier\n",
        "from sklearn.metrics import classification_report,confusion_matrix,accuracy_score\n",
        "from sklearn.model_selection import train_test_split\n",
        "from gensim.models.doc2vec import Doc2Vec, TaggedDocument\n",
        "\n",
        "\n",
        "import warnings\n",
        "warnings.filterwarnings('ignore')\n",
        "%matplotlib inline"
      ],
      "execution_count": 2,
      "outputs": [
        {
          "output_type": "stream",
          "text": [
            "/usr/local/lib/python3.6/dist-packages/statsmodels/tools/_testing.py:19: FutureWarning: pandas.util.testing is deprecated. Use the functions in the public API at pandas.testing instead.\n",
            "  import pandas.util.testing as tm\n"
          ],
          "name": "stderr"
        }
      ]
    },
    {
      "cell_type": "code",
      "metadata": {
        "id": "GI2WeMgBiO4x",
        "colab_type": "code",
        "outputId": "02feefa9-a79f-4fa2-e679-cf9b37771534",
        "colab": {
          "base_uri": "https://localhost:8080/",
          "height": 68
        }
      },
      "source": [
        "nltk.download('stopwords')"
      ],
      "execution_count": 3,
      "outputs": [
        {
          "output_type": "stream",
          "text": [
            "[nltk_data] Downloading package stopwords to /root/nltk_data...\n",
            "[nltk_data]   Unzipping corpora/stopwords.zip.\n"
          ],
          "name": "stdout"
        },
        {
          "output_type": "execute_result",
          "data": {
            "text/plain": [
              "True"
            ]
          },
          "metadata": {
            "tags": []
          },
          "execution_count": 3
        }
      ]
    },
    {
      "cell_type": "code",
      "metadata": {
        "id": "n_2lD5ZriO42",
        "colab_type": "code",
        "outputId": "d5301c6d-0a13-4add-f054-84845f7cf746",
        "colab": {
          "base_uri": "https://localhost:8080/",
          "height": 68
        }
      },
      "source": [
        "nltk.download('punkt')"
      ],
      "execution_count": 4,
      "outputs": [
        {
          "output_type": "stream",
          "text": [
            "[nltk_data] Downloading package punkt to /root/nltk_data...\n",
            "[nltk_data]   Unzipping tokenizers/punkt.zip.\n"
          ],
          "name": "stdout"
        },
        {
          "output_type": "execute_result",
          "data": {
            "text/plain": [
              "True"
            ]
          },
          "metadata": {
            "tags": []
          },
          "execution_count": 4
        }
      ]
    },
    {
      "cell_type": "code",
      "metadata": {
        "id": "jeVkCd12iO46",
        "colab_type": "code",
        "outputId": "c670f727-776c-4d66-a83f-7e471151a0c5",
        "colab": {
          "base_uri": "https://localhost:8080/",
          "height": 204
        }
      },
      "source": [
        "df = pd.read_csv('drive/My Drive/Blog post/SVM/Data/IMDB_Dataset.csv')\n",
        "df.head()"
      ],
      "execution_count": 5,
      "outputs": [
        {
          "output_type": "execute_result",
          "data": {
            "text/html": [
              "<div>\n",
              "<style scoped>\n",
              "    .dataframe tbody tr th:only-of-type {\n",
              "        vertical-align: middle;\n",
              "    }\n",
              "\n",
              "    .dataframe tbody tr th {\n",
              "        vertical-align: top;\n",
              "    }\n",
              "\n",
              "    .dataframe thead th {\n",
              "        text-align: right;\n",
              "    }\n",
              "</style>\n",
              "<table border=\"1\" class=\"dataframe\">\n",
              "  <thead>\n",
              "    <tr style=\"text-align: right;\">\n",
              "      <th></th>\n",
              "      <th>review</th>\n",
              "      <th>sentiment</th>\n",
              "    </tr>\n",
              "  </thead>\n",
              "  <tbody>\n",
              "    <tr>\n",
              "      <th>0</th>\n",
              "      <td>One of the other reviewers has mentioned that ...</td>\n",
              "      <td>positive</td>\n",
              "    </tr>\n",
              "    <tr>\n",
              "      <th>1</th>\n",
              "      <td>A wonderful little production. &lt;br /&gt;&lt;br /&gt;The...</td>\n",
              "      <td>positive</td>\n",
              "    </tr>\n",
              "    <tr>\n",
              "      <th>2</th>\n",
              "      <td>I thought this was a wonderful way to spend ti...</td>\n",
              "      <td>positive</td>\n",
              "    </tr>\n",
              "    <tr>\n",
              "      <th>3</th>\n",
              "      <td>Basically there's a family where a little boy ...</td>\n",
              "      <td>negative</td>\n",
              "    </tr>\n",
              "    <tr>\n",
              "      <th>4</th>\n",
              "      <td>Petter Mattei's \"Love in the Time of Money\" is...</td>\n",
              "      <td>positive</td>\n",
              "    </tr>\n",
              "  </tbody>\n",
              "</table>\n",
              "</div>"
            ],
            "text/plain": [
              "                                              review sentiment\n",
              "0  One of the other reviewers has mentioned that ...  positive\n",
              "1  A wonderful little production. <br /><br />The...  positive\n",
              "2  I thought this was a wonderful way to spend ti...  positive\n",
              "3  Basically there's a family where a little boy ...  negative\n",
              "4  Petter Mattei's \"Love in the Time of Money\" is...  positive"
            ]
          },
          "metadata": {
            "tags": []
          },
          "execution_count": 5
        }
      ]
    },
    {
      "cell_type": "code",
      "metadata": {
        "id": "5pQIpJ8AiO4-",
        "colab_type": "code",
        "outputId": "51c834fa-6479-47d3-f2f5-9acf4a660646",
        "colab": {}
      },
      "source": [
        "print(df.shape)"
      ],
      "execution_count": 0,
      "outputs": [
        {
          "output_type": "stream",
          "text": [
            "(50000, 2)\n"
          ],
          "name": "stdout"
        }
      ]
    },
    {
      "cell_type": "code",
      "metadata": {
        "id": "B7Z5JwA2iO5A",
        "colab_type": "code",
        "outputId": "567d8de8-2d4c-4466-9d9a-dbdeac72a40e",
        "colab": {}
      },
      "source": [
        "print(df['sentiment'].value_counts())"
      ],
      "execution_count": 0,
      "outputs": [
        {
          "output_type": "stream",
          "text": [
            "negative    25000\n",
            "positive    25000\n",
            "Name: sentiment, dtype: int64\n"
          ],
          "name": "stdout"
        }
      ]
    },
    {
      "cell_type": "code",
      "metadata": {
        "id": "TkErdM_8iO5D",
        "colab_type": "code",
        "outputId": "41e0e65e-ba57-4593-851b-d771a7ffaa76",
        "colab": {}
      },
      "source": [
        "# select a sample row\n",
        "df.iloc[49995,:][0]"
      ],
      "execution_count": 0,
      "outputs": [
        {
          "output_type": "execute_result",
          "data": {
            "text/plain": [
              "\"I thought this movie did a down right good job. It wasn't as creative or original as the first, but who was expecting it to be. It was a whole lotta fun. the more i think about it the more i like it, and when it comes out on DVD I'm going to pay the money for it very proudly, every last cent. Sharon Stone is great, she always is, even if her movie is horrible(Catwoman), but this movie isn't, this is one of those movies that will be underrated for its lifetime, and it will probably become a classic in like 20 yrs. Don't wait for it to be a classic, watch it now and enjoy it. Don't expect a masterpiece, or something thats gripping and soul touching, just allow yourself to get out of your life and get yourself involved in theirs.<br /><br />All in all, this movie is entertaining and i recommend people who haven't seen it see it, because what the critics and box office say doesn't always count, see it for yourself, you never know, you might just enjoy it. I tip my hat to this movie<br /><br />8/10\""
            ]
          },
          "metadata": {
            "tags": []
          },
          "execution_count": 30
        }
      ]
    },
    {
      "cell_type": "markdown",
      "metadata": {
        "id": "Lta_sOfDiO5E",
        "colab_type": "text"
      },
      "source": [
        "## String Preprocessing\n",
        "- html strips contains <br />\n",
        "- remove punctuation\n",
        "- remove stopwords\n",
        "- stemming"
      ]
    },
    {
      "cell_type": "code",
      "metadata": {
        "id": "vUZYjjKziO5F",
        "colab_type": "code",
        "colab": {}
      },
      "source": [
        "pd.options.display.max_colwidth = 1000\n",
        "#Removing the html strips\n",
        "def strip_html(text):\n",
        "    soup = BeautifulSoup(text, \"html.parser\")\n",
        "    return soup.get_text()\n",
        "\n",
        "#Removing the noisy text\n",
        "def denoise_text(text):\n",
        "    text = strip_html(text)\n",
        "#     text = remove_between_square_brackets(text)\n",
        "    return text\n",
        "\n",
        "#Apply function on review column\n",
        "df['review']=df['review'].apply(denoise_text)\n",
        "\n",
        "# remove punctuation, special characters\n",
        "df[\"review\"] = df['review'].str.replace('[^\\w\\s]','')\n"
      ],
      "execution_count": 0,
      "outputs": []
    },
    {
      "cell_type": "markdown",
      "metadata": {
        "id": "me4_T8O4iO5G",
        "colab_type": "text"
      },
      "source": [
        "### remove stopwords"
      ]
    },
    {
      "cell_type": "code",
      "metadata": {
        "id": "e2u8eAqkiO5H",
        "colab_type": "code",
        "colab": {}
      },
      "source": [
        "stop = set(stopwords.words('english'))\n",
        "df['review_without_stopwords'] = df[\"review\"].apply(lambda x: ' '.join([word for word in x.split() if word not in (stop)]))"
      ],
      "execution_count": 0,
      "outputs": []
    },
    {
      "cell_type": "markdown",
      "metadata": {
        "id": "ns6lvFzXiO5I",
        "colab_type": "text"
      },
      "source": [
        "## Stemming: \n",
        "- Turn the word into the root form \n",
        "    - Example: Playing, plays, played --> play\n",
        "    - Example: am, are, is --> be\n",
        "    - Example: car, cars, car's --> car\n",
        "- romve the suffixes and prefixes use of a word\n",
        "- Stemming with nltk package"
      ]
    },
    {
      "cell_type": "code",
      "metadata": {
        "id": "cO_TIgFHiO5J",
        "colab_type": "code",
        "colab": {}
      },
      "source": [
        "#Stemming the text\n",
        "def stemmer(text):\n",
        "    ps=nltk.porter.PorterStemmer()\n",
        "    text= ' '.join([ps.stem(word) for word in text.split()])\n",
        "    return text\n",
        "\n",
        "#Apply function on review column\n",
        "df['review_after_stemming']=df['review'].apply(stemmer)"
      ],
      "execution_count": 0,
      "outputs": []
    },
    {
      "cell_type": "markdown",
      "metadata": {
        "id": "qZiO6JfAiO5K",
        "colab_type": "text"
      },
      "source": [
        "### Tokenize\n",
        "- Tokenize the words"
      ]
    },
    {
      "cell_type": "code",
      "metadata": {
        "id": "3X4bkEFuiO5K",
        "colab_type": "code",
        "colab": {}
      },
      "source": [
        "df['tokenized_sents'] = df.apply(lambda row: nltk.word_tokenize(row['review_after_stemming']), axis=1)\n",
        "df['len_tokenized_sents'] = df.apply(lambda row: len(row['review_after_stemming']), axis=1)"
      ],
      "execution_count": 0,
      "outputs": []
    },
    {
      "cell_type": "markdown",
      "metadata": {
        "id": "W37-vKVSiO5L",
        "colab_type": "text"
      },
      "source": [
        "## Transfor label into numeric value"
      ]
    },
    {
      "cell_type": "code",
      "metadata": {
        "id": "_1GpQkKXiO5M",
        "colab_type": "code",
        "colab": {}
      },
      "source": [
        "def label(df):\n",
        "    if df['sentiment']=='positive':\n",
        "        return 1\n",
        "    else:\n",
        "        return 0\n",
        "\n",
        "df['label_encode'] = df.apply(label, axis=1) "
      ],
      "execution_count": 0,
      "outputs": []
    },
    {
      "cell_type": "markdown",
      "metadata": {
        "id": "xhJ1vi5yiO5O",
        "colab_type": "text"
      },
      "source": [
        "## doc2vec model\n",
        "- Skip-gram\n",
        "  - Skip-gram picks one nearby word, then supplies it as input to try to predict a target word\n",
        "- CBOW\n",
        "  - not to take order of words in to consideration\n",
        "  - It is a model that tries to predict words given the context of a few words before and a few words after the target word. This is distinct from language modeling, since CBOW is not sequential and does not have to be probabilistic.\n",
        "\n",
        "### Doc2Vec\n",
        "- DBOW\n",
        "  - similar to skip-gram\n",
        "  - a single paragraph-vector for a whole text is used to predict individual target words, regardless of distance and without any averaging\n",
        "  - ``dbow_words=1`` : add skip-gram training\n",
        "  - ``dbow_words=0`` : no skip-gram training\n",
        "  - ``negative=5`` : default setting 5\n",
        "\n",
        "### Word2Vec\n",
        "- skip-gram (sg=1) and CBOW (sg=0)\n",
        "- ``negative=5`` : default setting 5\n",
        "\n",
        "### hierarchical-softmax vs negative-sampling\n",
        "- determines how target-word predictions are read from the neural-network\n",
        "\n",
        "## hierarchical-softmax\n",
        "- instead of every preictable word having its own output, which nodes should be closer to 1.0 or 0.0 in order to represent a word is matter of the word's encoding, which is calculated so that common words have short encodings (involving just a few nodes), while rare words will have longer encodings (involving more nodes)\n",
        "- get slower with larger vocabularies (because the average number of nodes involved in each training-example grows)\n",
        "\n",
        "## negative-sampling\n",
        "- Sparse approach to only look at N+1 nodes and igonre the rest, look at **N worng words** , nudges the network's internal weights and the input-vectors to make the 'correct' word output node activation a little stronger\n",
        "- Redice computation time\n",
        "- ``negative=2``: 2 negative-examples\n",
        "- negative-sampling does not increase computation time when corpus is large (because it's always N+1 nodes)"
      ]
    },
    {
      "cell_type": "code",
      "metadata": {
        "id": "_lyovi03DeKC",
        "colab_type": "code",
        "outputId": "319ff1c7-7921-4173-9ff1-1bec445b9f70",
        "colab": {
          "base_uri": "https://localhost:8080/",
          "height": 173
        }
      },
      "source": [
        "train_data"
      ],
      "execution_count": 0,
      "outputs": [
        {
          "output_type": "execute_result",
          "data": {
            "text/plain": [
              "array([list(['As', 'much', 'as', 'I', 'love', 'train', 'I', 'couldnt', 'stomach', 'thi', 'movi', 'the', 'premis', 'that', 'one', 'could', 'steal', 'a', 'locomot', 'and', 'drive', 'from', 'arkansa', 'to', 'chicago', 'without', 'hit', 'anoth', 'train', 'along', 'the', 'way', 'ha', 'to', 'be', 'right', 'up', 'there', 'on', 'the', 'imposs', 'plot', 'line', 'hit', 'board', 'imagin', 'two', 'disgruntl', 'nasa', 'employe', 'steal', 'the', 'crawler', 'that', 'tote', 'the', 'shuttl', 'to', 'and', 'fro', 'and', 'drive', 'it', 'to', 'new', 'york', 'and', 'you', 'get', 'the', 'ideahav', 'said', 'all', 'that', 'it', 'a', 'nice', 'tri', 'wilford', 'brime', 'is', 'at', 'hi', 'quaker', 'oat', 'best', 'and', 'levon', 'helm', 'turn', 'a', 'good', 'perform', 'as', 'hi', 'dimwit', 'but', 'wellmean', 'sidekick', 'bob', 'balaban', 'is', 'suitabl', 'wormi', 'as', 'the', 'corpor', 'guy', 'and', 'the', 'littl', 'guy', 'take', 'on', 'goliath', 'stori', 'get', 'anoth', 'air']),\n",
              "       list(['thi', 'wa', 'a', 'veri', 'good', 'ppv', 'but', 'like', 'wrestlemania', 'XX', 'some', '14', 'year', 'later', 'the', 'wwe', 'cram', 'so', 'mani', 'match', 'on', 'it', 'some', 'of', 'the', 'match', 'were', 'useless', 'Im', 'not', 'go', 'to', 'go', 'through', 'everi', 'match', 'on', 'the', 'card', 'becaus', 'it', 'would', 'take', 'forev', 'to', 'dohowev', 'major', 'highlight', 'includ', 'the', 'huge', 'pop', 'for', 'demolit', 'win', 'the', 'tag', 'team', 'belt', 'from', 'haku', 'and', 'andr', 'the', 'giant', 'the', 'first', 'ever', 'mix', 'tag', 'match', 'featur', 'randi', 'savag', 'and', 'sensat', 'queen', 'sherri', 'vs', 'dusti', 'rhode', 'and', 'the', 'late', 'sapphir', 'and', 'the', 'first', 'ever', 'clash', 'between', 'the', 'ultim', 'warrior', 'and', 'hulk', 'hogansom', 'match', 'were', 'a', 'complet', 'wast', 'of', 'time', 'like', 'the', 'bolshevik', 'vs', 'the', 'hart', 'foundat', 'wa', 'onli', 'about', '40', 'second', 'long', 'koko', 'B', 'ware', 'vs', 'rick', 'martel', 'wa', 'short', 'and', 'big', 'bossman', 'vs', 'akeem', 'wa', 'too', 'shortmr', 'perfect', 'vs', 'brutu', 'beefcak', 'and', 'ted', 'dibias', 'vs', 'jake', 'the', 'snake', 'robert', 'were', 'veri', 'good', 'indeedoveral', 'grade', 'B']),\n",
              "       list(['not', 'find', 'the', 'right', 'word', 'is', 'everybodi', 'problem', 'in', 'thi', 'vaudevilletyp', 'urban', 'comedi', 'they', 'dont', 'know', 'what', 'to', 'say', 'and', 'they', 'dont', 'know', 'how', 'to', 'say', 'it', 'which', 'is', 'whi', 'they', 'embark', 'on', 'the', 'potenti', 'humili', 'enterpris', 'of', 'prearrang', 'speed', 'date', 'unfortun', 'they', 'all', 'come', 'across', 'as', 'cardboard', 'charact', 'rather', 'than', 'real', 'peopl', 'the', 'stori', 'follow', 'a', 'convent', 'threeact', 'structur', 'get', 'to', 'know', 'the', 'sizabl', 'cast', 'in', 'their', 'sorri', 'singl', 'live', 'the', 'actual', 'date', 'circuit', 'and', 'a', 'final', 'stretch', 'of', 'romant', 'fallout', 'showcas', 'some', 'of', 'the', 'newfound', 'coupl', 'folli', 'becaus', 'it', 'all', 'so', 'predict', 'Id', 'say', 'that', 'as', 'a', 'narr', 'shoppen', 'is', 'a', 'failur', 'As', 'a', 'comedi', 'most', 'of', 'the', 'time', 'it', 'too', 'goofi', 'to', 'be', 'realli', 'funni', 'thumb', 'up', 'to', 'kathrin', 'von', 'steinburg', 'she', 'stand', 'out', 'from', 'the', 'soap', 'opera', 'crowd', 'as', 'the', 'aloof', 'independ', 'wealthi', 'miriam', 'great', 'makeup', 'on', 'her', 'too', 'verena', 'weißert', 'heavi', 'eye', 'shadow', 'meet', 'skinton', 'lip', 'gloss', 'creat', 'a', 'brood', 'and', 'bohemian', 'yet', 'girlish', 'effect', 'thumb', 'up', 'also', 'to', 'stefan', 'zinner', 'as', 'the', 'bavarian', 'love', 'machin', 'and', 'tanja', 'schleiff', 'as', 'the', 'hot', 'nutritionist', 'they', 'bypass', 'the', 'commun', 'challeng', 'by', 'way', 'of', 'the', 'timeless', 'bodi', 'languag', 'of', 'copul']),\n",
              "       ...,\n",
              "       list(['avoid', 'thi', 'one', 'It', 'is', 'a', 'terribl', 'movi', 'So', 'what', 'if', 'it', 'is', 'veri', 'excit', 'all', 'it', 'is', 'is', 'just', 'pointless', 'murder', 'and', 'the', 'whole', 'thing', 'with', 'thorn', 'and', 'michael', 'curs', 'that', 'wa', 'the', 'absolut', 'worst', 'thing', 'they', 'could', 'possibl', 'do', 'to', 'the', 'seri', 'whi', 'couldnt', 'they', 'leav', 'michael', 'stori', 'a', 'mysteri', 'he', 'suppos', 'to', 'be', 'the', 'boogeyman', 'not', 'part', 'of', 'some', 'stupid', 'cult', 'ugh', 'thank', 'god', 'for', 'halloween', 'h20', 'which', 'wipe', 'out', 'halloween', '36', 'they', 'all', 'suck', 'but', 'anyway', 'if', 'you', 'see', 'thi', 'movi', 'pleas', 'expect', 'no', 'more', 'than', 'pointless', 'murder', 'and', 'gore']),\n",
              "       list(['thi', 'product', 'wa', 'quit', 'a', 'surpris', 'for', 'me', 'I', 'absolut', 'love', 'obscur', 'earli', '30', 'movi', 'but', 'I', 'wasnt', 'prepar', 'for', 'the', 'last', '25', 'minut', 'of', 'thi', 'stori', 'If', 'by', 'ani', 'chanc', 'your', 'not', 'convinc', 'in', 'the', 'first', 'half', 'hang', 'in', 'there', 'for', 'the', 'final', 'Of', 'cours', 'you', 'must', 'look', 'at', 'the', 'blatant', 'racism', 'as', 'be', 'pure', 'topic', 'A', 'fascin', 'view', 'experi', 'but', 'I', 'think', 'the', 'cat', 'paw', 'is', 'not', 'avail', 'on', 'videodvd', 'yet', 'watch', 'your', 'pb', 'list']),\n",
              "       list(['thi', 'is', 'a', 'decent', 'movi', 'although', 'littl', 'bit', 'short', 'in', 'time', 'for', 'me', 'it', 'pack', 'a', 'lot', 'of', 'action', 'grit', 'commonsens', 'and', 'emot', 'in', 'that', 'time', 'frame', 'matt', 'dillon', 'and', 'the', 'other', 'main', 'charact', 'doe', 'a', 'great', 'job', 'in', 'thi', 'movi', 'the', 'emot', 'and', 'intens', 'were', 'convinc', 'and', 'tens', 'throughout', 'the', 'movi', 'It', 'is', 'not', 'typic', 'fanci', 'expens', 'hollywood', 'cgi', 'action', 'movi', 'but', 'it', 'wa', 'a', 'veri', 'satisfi', 'movi', 'inde', 'for', 'the', 'price', 'My', 'even', 'wa', 'great', 'becaus', 'of', 'thi', 'movi', 'thi', 'movi', 'is', 'straight', 'tradit', 'action', 'movi', 'with', 'great', 'act', 'stori', 'and', 'direct', 'I', 'would', 'recommend', 'thi', 'movi', 'the', 'charact', 'develop', 'of', 'the', 'charact', 'were', 'good', 'and', 'make', 'you', 'believ', 'that', 'were', 'are', 'actual', 'see', 'a', 'real', 'event', 'take', 'place', 'becaus', 'thi', 'movi', 'I', 'believ', 'wa', 'made', 'with', 'cheaper', 'budget', 'the', 'act', 'and', 'qualiti', 'were', 'much', 'higher'])],\n",
              "      dtype=object)"
            ]
          },
          "metadata": {
            "tags": []
          },
          "execution_count": 21
        }
      ]
    },
    {
      "cell_type": "code",
      "metadata": {
        "id": "f8ok9SVXiO5N",
        "colab_type": "code",
        "colab": {}
      },
      "source": [
        "\n",
        "X_train, X_test, y_train, y_test = train_test_split(df['tokenized_sents'], df['label_encode'], test_size=0.3, random_state=42)\n"
      ],
      "execution_count": 0,
      "outputs": []
    },
    {
      "cell_type": "code",
      "metadata": {
        "id": "j4dqcriSiO5P",
        "colab_type": "code",
        "outputId": "57f5cc0c-b969-41ee-b55d-98f874f55692",
        "colab": {
          "base_uri": "https://localhost:8080/",
          "height": 204
        }
      },
      "source": [
        "# turn pandas series into array\n",
        "train_data = X_train.to_numpy()\n",
        "test_data = X_test.to_numpy()\n",
        "tagged_data = [TaggedDocument(words=_d, tags=[str(i)]) for i, _d in enumerate(train_data)]\n",
        "\n",
        "\n",
        "tagged_test = [TaggedDocument(words=_d, tags=[str(i)]) for i, _d in enumerate(test_data)]\n",
        "\n",
        "max_epochs = 10\n",
        "vec_size = 20\n",
        "alpha = 0.025\n",
        "\n",
        "model = Doc2Vec(vector_size=350,\n",
        "                window=10,\n",
        "                # The window size is the maximum context location\n",
        "                # at which the words need to be predicted.\n",
        "                alpha=alpha, # The initial learning rate\n",
        "                min_alpha=0.00025,\n",
        "                # Learning rate will linearly drop to\n",
        "                # min_alpha as training progresses\n",
        "                min_count=1,\n",
        "                dbow_words=0,\n",
        "                dm =0)\n",
        "\n",
        "'''\n",
        "dm defines the training algorithm. If dm=1 means ‘distributed memory’ (PV-DM) and dm =0 means \n",
        "‘distributed bag of words’ (PV-DBOW). Distributed Memory model preserves the word order in a document \n",
        "whereas Distributed Bag of words just uses the bag of words approach, which doesn’t preserve any word order'''\n",
        "\n",
        "\n",
        "model.build_vocab(tagged_data)\n",
        "\n",
        "for epoch in range(max_epochs):\n",
        "    print('iteration {0}'.format(epoch))\n",
        "    model.train(tagged_data,\n",
        "                total_examples=model.corpus_count,\n",
        "                epochs=model.iter)\n",
        "    # decrease the learning rate\n",
        "    model.alpha -= 0.0002\n",
        "    # fix the learning rate, no decay\n",
        "    model.min_alpha = model.alpha\n",
        "\n",
        "model.save(\"d2v.model\")\n",
        "print(\"Model Saved\")"
      ],
      "execution_count": 12,
      "outputs": [
        {
          "output_type": "stream",
          "text": [
            "iteration 0\n",
            "iteration 1\n",
            "iteration 2\n",
            "iteration 3\n",
            "iteration 4\n",
            "iteration 5\n",
            "iteration 6\n",
            "iteration 7\n",
            "iteration 8\n",
            "iteration 9\n",
            "Model Saved\n"
          ],
          "name": "stdout"
        }
      ]
    },
    {
      "cell_type": "code",
      "metadata": {
        "id": "QmR7oC7HiO5Q",
        "colab_type": "code",
        "colab": {}
      },
      "source": [
        "model= Doc2Vec.load(\"d2v.model\")\n",
        "\n",
        "# Extract training vectors:\n",
        "train_doc2vec = np.array([model.docvecs[str(i)] for i in range(len(tagged_data))])\n",
        "\n",
        "# Extract test vectors:\n",
        "test_doc2vec = np.array([model.infer_vector([str(i)]) for i in range(len(tagged_test))])\n"
      ],
      "execution_count": 0,
      "outputs": []
    },
    {
      "cell_type": "code",
      "metadata": {
        "id": "o9nyatwULxtX",
        "colab_type": "code",
        "outputId": "dfd8a23f-dc6f-4c6f-b1f4-65816bd076cf",
        "colab": {
          "base_uri": "https://localhost:8080/",
          "height": 34
        }
      },
      "source": [
        "train_doc2vec.shape"
      ],
      "execution_count": 0,
      "outputs": [
        {
          "output_type": "execute_result",
          "data": {
            "text/plain": [
              "(35000, 350)"
            ]
          },
          "metadata": {
            "tags": []
          },
          "execution_count": 17
        }
      ]
    },
    {
      "cell_type": "markdown",
      "metadata": {
        "id": "q0tPsZjbO8Zc",
        "colab_type": "text"
      },
      "source": [
        "# Text Processing\n",
        "- Tokenizer(num_words=2000)\n",
        "  - no matter how many words are assigned, len(tokenizer.word_index) not be affected"
      ]
    },
    {
      "cell_type": "code",
      "metadata": {
        "id": "okTk-i2ZO7hx",
        "colab_type": "code",
        "colab": {}
      },
      "source": [
        "from keras.preprocessing.text import Tokenizer\n",
        "from keras.preprocessing.sequence import pad_sequences\n",
        "from keras.preprocessing import sequence\n",
        "\n",
        "maxlen = 800 #caught off point of the lenght of a sentence\n",
        "\n",
        "tokenizer = Tokenizer(num_words=2000)\n",
        "#fits the comments on the comments\n",
        "tokenizer.fit_on_texts(df.review.values)\n",
        "#changes the tokens into sequence data structures\n",
        "post_seq= tokenizer.texts_to_sequences(df.review.values)\n",
        "post_seq_padded= pad_sequences(post_seq, maxlen=maxlen)\n",
        "\n",
        "y = df['label_encode'].values\n",
        "\n",
        "X_train, X_test, y_train, y_test = train_test_split(post_seq_padded, y, test_size=0.3, random_state=23)\n",
        "\n",
        "y_train = np.array(y_train)\n",
        "y_test = np.array(y_test)"
      ],
      "execution_count": 0,
      "outputs": []
    },
    {
      "cell_type": "code",
      "metadata": {
        "id": "LDs16BVSQVBL",
        "colab_type": "code",
        "outputId": "47f41b12-f553-4f5b-f989-c818723ca142",
        "colab": {
          "base_uri": "https://localhost:8080/",
          "height": 34
        }
      },
      "source": [
        "X_test.shape"
      ],
      "execution_count": 0,
      "outputs": [
        {
          "output_type": "execute_result",
          "data": {
            "text/plain": [
              "(15000,)"
            ]
          },
          "metadata": {
            "tags": []
          },
          "execution_count": 14
        }
      ]
    },
    {
      "cell_type": "code",
      "metadata": {
        "id": "8HqlMku6ENRJ",
        "colab_type": "code",
        "colab": {
          "base_uri": "https://localhost:8080/",
          "height": 34
        },
        "outputId": "7e1e6929-7c15-4d61-a2b5-16f6f0ab9748"
      },
      "source": [
        "# tokenizer num_words = 450\n",
        "vocab_size = len(tokenizer.word_index)\n",
        "vocab_size"
      ],
      "execution_count": 17,
      "outputs": [
        {
          "output_type": "execute_result",
          "data": {
            "text/plain": [
              "222908"
            ]
          },
          "metadata": {
            "tags": []
          },
          "execution_count": 17
        }
      ]
    },
    {
      "cell_type": "code",
      "metadata": {
        "id": "EjJfsJqQEjY8",
        "colab_type": "code",
        "colab": {
          "base_uri": "https://localhost:8080/",
          "height": 34
        },
        "outputId": "d2f06115-cb44-406e-8a37-37d72b4165c7"
      },
      "source": [
        "# tokenizer num_words = 1000\n",
        "vocab_size = len(tokenizer.word_index)\n",
        "vocab_size"
      ],
      "execution_count": 19,
      "outputs": [
        {
          "output_type": "execute_result",
          "data": {
            "text/plain": [
              "222908"
            ]
          },
          "metadata": {
            "tags": []
          },
          "execution_count": 19
        }
      ]
    },
    {
      "cell_type": "markdown",
      "metadata": {
        "id": "XIYLQaQ3HeZ1",
        "colab_type": "text"
      },
      "source": [
        "## Bi-Directional LSTM Keras"
      ]
    },
    {
      "cell_type": "markdown",
      "metadata": {
        "id": "m2NUi4iZIIZb",
        "colab_type": "text"
      },
      "source": [
        "- Embedding(2200, 350 , weights=[train_doc2vec], input_length=maxlen)\n",
        "  - when placed weights for the embedding layer, the output shape for embedding layer shall be (35000, 350) same with train_doc2vec shape\n",
        "- Embedding(35000, 350 , weights=[train_doc2vec], input_length=maxlen, trainable=True)\n",
        "  - set ``trainable=True``, can train weights on the embedding layer\n",
        "- Embedding(2000, 350, input_length=maxlen)\n",
        "  - when no weights are assigned into embedding layer, the output shape of embedding layer (2000, #), 2000 shall be matched with tokenizer (num_words)"
      ]
    },
    {
      "cell_type": "code",
      "metadata": {
        "id": "k4Mz5G9CIAbG",
        "colab_type": "code",
        "outputId": "5391ab7c-62f2-431d-8e0d-77a0f88290f7",
        "colab": {
          "base_uri": "https://localhost:8080/",
          "height": 700
        }
      },
      "source": [
        "from sklearn.model_selection import cross_val_score\n",
        "from keras.preprocessing.sequence import pad_sequences\n",
        "from keras.models import Sequential\n",
        "from keras.layers import Dense, Dropout, Flatten\n",
        "from keras.layers import LSTM, Embedding, Bidirectional\n",
        "from keras import optimizers\n",
        "from keras.callbacks import ModelCheckpoint\n",
        "from keras.utils import to_categorical\n",
        "\n",
        "vocab_size = len(tokenizer.word_index) + 1  # Adding 1 because of reserved 0 index\n",
        "max_features = 22000 # number of words to be used in the word corpse\n",
        "maxlen = 800\n",
        "\n",
        "# # shrink the size of the sequence layer\n",
        "# post_seq_padded= pad_sequences(post_seq, maxlen=maxlen)\n",
        "\n",
        "model = Sequential()\n",
        "model.add(Embedding(35000, 350 , weights=[train_doc2vec], input_length=maxlen, trainable=True))\n",
        "model.add(Dropout(0.5))\n",
        "model.add(Bidirectional(LSTM(64)))\n",
        "model.add(Dropout(0.5))\n",
        "model.add(Dense(2, activation='softmax'))\n",
        "\n",
        "\n",
        "model.compile(loss='binary_crossentropy',\n",
        "              optimizer='adam',\n",
        "              metrics=['acc'])\n",
        "\n",
        "\n",
        "# prints out summary of model\n",
        "model.summary()\n",
        "\n",
        "# saves the model weights\n",
        "# the train/validation/test split is 26500/8750/15000, it's essential to hold out a decent chunck of unseen data\n",
        "filepath=\"weights-simple.hdf5\"\n",
        "checkpointer = ModelCheckpoint(filepath, monitor='val_acc', verbose=1, save_best_only=True, mode='max')\n",
        "\n",
        "\n",
        "history = model.fit([X_train], batch_size=32, y=to_categorical(y_train), verbose=1, validation_split=0.25, \n",
        "          shuffle=True, epochs=5, callbacks=[checkpointer])"
      ],
      "execution_count": 34,
      "outputs": [
        {
          "output_type": "stream",
          "text": [
            "Model: \"sequential_14\"\n",
            "_________________________________________________________________\n",
            "Layer (type)                 Output Shape              Param #   \n",
            "=================================================================\n",
            "embedding_14 (Embedding)     (None, 800, 350)          12250000  \n",
            "_________________________________________________________________\n",
            "dropout_21 (Dropout)         (None, 800, 350)          0         \n",
            "_________________________________________________________________\n",
            "bidirectional_11 (Bidirectio (None, 128)               212480    \n",
            "_________________________________________________________________\n",
            "dropout_22 (Dropout)         (None, 128)               0         \n",
            "_________________________________________________________________\n",
            "dense_11 (Dense)             (None, 2)                 258       \n",
            "=================================================================\n",
            "Total params: 12,462,738\n",
            "Trainable params: 12,462,738\n",
            "Non-trainable params: 0\n",
            "_________________________________________________________________\n",
            "Train on 26250 samples, validate on 8750 samples\n",
            "Epoch 1/5\n",
            "26250/26250 [==============================] - 1842s 70ms/step - loss: 0.5830 - acc: 0.6811 - val_loss: 0.3759 - val_acc: 0.8397\n",
            "\n",
            "Epoch 00001: val_acc improved from -inf to 0.83966, saving model to weights-simple.hdf5\n",
            "Epoch 2/5\n",
            "26250/26250 [==============================] - 1839s 70ms/step - loss: 0.3544 - acc: 0.8503 - val_loss: 0.3353 - val_acc: 0.8697\n",
            "\n",
            "Epoch 00002: val_acc improved from 0.83966 to 0.86971, saving model to weights-simple.hdf5\n",
            "Epoch 3/5\n",
            "26250/26250 [==============================] - 1843s 70ms/step - loss: 0.2962 - acc: 0.8783 - val_loss: 0.2712 - val_acc: 0.8919\n",
            "\n",
            "Epoch 00003: val_acc improved from 0.86971 to 0.89189, saving model to weights-simple.hdf5\n",
            "Epoch 4/5\n",
            "26250/26250 [==============================] - 1857s 71ms/step - loss: 0.2662 - acc: 0.8907 - val_loss: 0.3129 - val_acc: 0.8747\n",
            "\n",
            "Epoch 00004: val_acc did not improve from 0.89189\n",
            "Epoch 5/5\n",
            "26250/26250 [==============================] - 1906s 73ms/step - loss: 0.2475 - acc: 0.9002 - val_loss: 0.2677 - val_acc: 0.8935\n",
            "\n",
            "Epoch 00005: val_acc improved from 0.89189 to 0.89349, saving model to weights-simple.hdf5\n"
          ],
          "name": "stdout"
        }
      ]
    },
    {
      "cell_type": "code",
      "metadata": {
        "id": "I7JM7hleeltd",
        "colab_type": "code",
        "outputId": "2bdb4852-5d68-4a4e-faf0-871eff8316d8",
        "colab": {
          "base_uri": "https://localhost:8080/"
        }
      },
      "source": [
        "#plot model\n",
        "sns.set(style=\"whitegrid\")\n",
        "fig, ax = plt.subplots()\n",
        "df_result = pd.DataFrame({'epochs':history.epoch, 'accuracy': history.history['acc'], 'validation_accuracy': history.history['val_acc']})\n",
        "plt.plot(df_result[\"epochs\"], df_result[\"accuracy\"], \"o-\", ms=8,\n",
        "            color=\"r\", label='training_acc')\n",
        "plt.plot(df_result[\"epochs\"], df_result[\"validation_accuracy\"], \"o-\", ms=8,\n",
        "            color=\"g\", label='validation_acc')\n",
        "plt.title('Vocab Size of 350 with pretrained Doc2Vec for weights')\n",
        "ax.legend()"
      ],
      "execution_count": 35,
      "outputs": [
        {
          "output_type": "execute_result",
          "data": {
            "text/plain": [
              "<matplotlib.legend.Legend at 0x7fb953b878d0>"
            ]
          },
          "metadata": {
            "tags": []
          },
          "execution_count": 35
        },
        {
          "output_type": "display_data",
          "data": {
            "image/png": "[encoded data removed]",
            "text/plain": [
              "<Figure size 432x288 with 1 Axes>"
            ]
          },
          "metadata": {
            "tags": []
          }
        }
      ]
    }
  ]
}